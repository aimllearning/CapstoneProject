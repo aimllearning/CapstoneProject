{
  "nbformat": 4,
  "nbformat_minor": 0,
  "metadata": {
    "colab": {
      "name": "CapstoneProject_CV.ipynb",
      "provenance": [],
      "collapsed_sections": [],
      "authorship_tag": "ABX9TyNgtVY5IWs1Ll4LfPfJWwND",
      "include_colab_link": true
    },
    "kernelspec": {
      "name": "python3",
      "display_name": "Python 3"
    }
  },
  "cells": [
    {
      "cell_type": "markdown",
      "metadata": {
        "id": "view-in-github",
        "colab_type": "text"
      },
      "source": [
        "<a href=\"https://colab.research.google.com/github/aimllearning/CapstoneProject/blob/master/CapstoneProject_CV.ipynb\" target=\"_parent\"><img src=\"https://colab.research.google.com/assets/colab-badge.svg\" alt=\"Open In Colab\"/></a>"
      ]
    },
    {
      "cell_type": "markdown",
      "metadata": {
        "id": "DmJYSPaSBOuU",
        "colab_type": "text"
      },
      "source": [
        "**Capstone Project Computer Vision**"
      ]
    },
    {
      "cell_type": "code",
      "metadata": {
        "id": "eAdemcii9PiD",
        "colab_type": "code",
        "outputId": "7d485207-1745-4e65-909d-e27eebaa7d8d",
        "colab": {
          "base_uri": "https://localhost:8080/",
          "height": 92
        }
      },
      "source": [
        "import numpy as np \n",
        "import pandas as pd \n",
        "import matplotlib.pyplot as plt\n",
        "import matplotlib.patches as patches\n",
        "import seaborn as sns\n",
        "\n",
        "#install pydicom\n",
        "!pip install pydicom\n",
        "#import pydicom\n",
        "import pydicom\n"
      ],
      "execution_count": 1,
      "outputs": [
        {
          "output_type": "stream",
          "text": [
            "/usr/local/lib/python3.6/dist-packages/statsmodels/tools/_testing.py:19: FutureWarning: pandas.util.testing is deprecated. Use the functions in the public API at pandas.testing instead.\n",
            "  import pandas.util.testing as tm\n"
          ],
          "name": "stderr"
        },
        {
          "output_type": "stream",
          "text": [
            "Requirement already satisfied: pydicom in /usr/local/lib/python3.6/dist-packages (1.4.2)\n"
          ],
          "name": "stdout"
        }
      ]
    },
    {
      "cell_type": "markdown",
      "metadata": {
        "id": "Lgm-9fquBdkf",
        "colab_type": "text"
      },
      "source": [
        "Mount Google Drive"
      ]
    },
    {
      "cell_type": "code",
      "metadata": {
        "id": "OzKXXmXCBiHO",
        "colab_type": "code",
        "outputId": "53d833b1-a662-49b7-ff2a-d83c4cfc32e1",
        "colab": {
          "base_uri": "https://localhost:8080/",
          "height": 35
        }
      },
      "source": [
        "from google.colab import drive\n",
        "drive.mount('/content/drive')"
      ],
      "execution_count": 2,
      "outputs": [
        {
          "output_type": "stream",
          "text": [
            "Drive already mounted at /content/drive; to attempt to forcibly remount, call drive.mount(\"/content/drive\", force_remount=True).\n"
          ],
          "name": "stdout"
        }
      ]
    },
    {
      "cell_type": "code",
      "metadata": {
        "id": "Cn5IHk_Q9NHs",
        "colab_type": "code",
        "colab": {}
      },
      "source": [
        ""
      ],
      "execution_count": 0,
      "outputs": []
    },
    {
      "cell_type": "code",
      "metadata": {
        "id": "pCc4vzipWEix",
        "colab_type": "code",
        "outputId": "b027db4b-b1af-4f96-abe0-067485e92d48",
        "colab": {
          "base_uri": "https://localhost:8080/",
          "height": 35
        }
      },
      "source": [
        "#Set Image Extraction Path\n",
        "\n",
        "import os\n",
        "#%cd '../../'\n",
        "%cd 'drive/My Drive/Colab Notebooks'"
      ],
      "execution_count": 3,
      "outputs": [
        {
          "output_type": "stream",
          "text": [
            "/content/drive/My Drive/Colab Notebooks\n"
          ],
          "name": "stdout"
        }
      ]
    },
    {
      "cell_type": "code",
      "metadata": {
        "id": "a_CWr_CjZvk4",
        "colab_type": "code",
        "colab": {}
      },
      "source": [
        "#extract the data\n",
        "#%cd 'drive/My Drive/Colab Notebooks/Data/DCM'\n",
        "from zipfile import ZipFile\n",
        "testImagesPath = 'Data/stage_2_test_images.zip'\n",
        "trainImagesPath = 'Data/stage_2_train_images.zip'\n",
        "#extract test images\n",
        "with ZipFile(testImagesPath, 'r') as z:\n",
        "  z.extractall('Data/DCM_Test_Images/')\n",
        "#extract train images\n",
        "with ZipFile(trainImagesPath, 'r') as z:\n",
        "   z.extractall('Data/DCM_Train_Images/')"
      ],
      "execution_count": 0,
      "outputs": []
    },
    {
      "cell_type": "code",
      "metadata": {
        "id": "MKuj4D2YBp6c",
        "colab_type": "code",
        "outputId": "953d8203-8813-46c4-b3a0-40e5a8b2375d",
        "colab": {
          "base_uri": "https://localhost:8080/",
          "height": 55
        }
      },
      "source": [
        "#do listing of the data which we are using for input\n",
        "print(os.listdir(\"Data\"))"
      ],
      "execution_count": 6,
      "outputs": [
        {
          "output_type": "stream",
          "text": [
            "['stage_2_detailed_class_info (1).csv', 'stage_2_detailed_class_info.csv', 'stage_2_train_labels.csv', 'stage_2_train_labels.csv.zip', 'stage_2_sample_submission.csv', 'GCP Credits Request Link - RSNA.txt', 'stage_2_test_images.zip', 'stage_2_train_images.zip', 'DCM']\n"
          ],
          "name": "stdout"
        }
      ]
    },
    {
      "cell_type": "markdown",
      "metadata": {
        "id": "wj-hAPajCQ0Z",
        "colab_type": "text"
      },
      "source": [
        "Let's explore the target classes"
      ]
    },
    {
      "cell_type": "code",
      "metadata": {
        "id": "59MFC2GQCOeh",
        "colab_type": "code",
        "outputId": "f7a4c855-507f-45e4-d4fd-f3b01450c9ef",
        "colab": {
          "base_uri": "https://localhost:8080/",
          "height": 363
        }
      },
      "source": [
        "patient_classes = pd.read_csv('Data/stage_2_detailed_class_info.csv')\n",
        "patient_classes.head(10)"
      ],
      "execution_count": 7,
      "outputs": [
        {
          "output_type": "execute_result",
          "data": {
            "text/html": [
              "<div>\n",
              "<style scoped>\n",
              "    .dataframe tbody tr th:only-of-type {\n",
              "        vertical-align: middle;\n",
              "    }\n",
              "\n",
              "    .dataframe tbody tr th {\n",
              "        vertical-align: top;\n",
              "    }\n",
              "\n",
              "    .dataframe thead th {\n",
              "        text-align: right;\n",
              "    }\n",
              "</style>\n",
              "<table border=\"1\" class=\"dataframe\">\n",
              "  <thead>\n",
              "    <tr style=\"text-align: right;\">\n",
              "      <th></th>\n",
              "      <th>patientId</th>\n",
              "      <th>class</th>\n",
              "    </tr>\n",
              "  </thead>\n",
              "  <tbody>\n",
              "    <tr>\n",
              "      <th>0</th>\n",
              "      <td>0004cfab-14fd-4e49-80ba-63a80b6bddd6</td>\n",
              "      <td>No Lung Opacity / Not Normal</td>\n",
              "    </tr>\n",
              "    <tr>\n",
              "      <th>1</th>\n",
              "      <td>00313ee0-9eaa-42f4-b0ab-c148ed3241cd</td>\n",
              "      <td>No Lung Opacity / Not Normal</td>\n",
              "    </tr>\n",
              "    <tr>\n",
              "      <th>2</th>\n",
              "      <td>00322d4d-1c29-4943-afc9-b6754be640eb</td>\n",
              "      <td>No Lung Opacity / Not Normal</td>\n",
              "    </tr>\n",
              "    <tr>\n",
              "      <th>3</th>\n",
              "      <td>003d8fa0-6bf1-40ed-b54c-ac657f8495c5</td>\n",
              "      <td>Normal</td>\n",
              "    </tr>\n",
              "    <tr>\n",
              "      <th>4</th>\n",
              "      <td>00436515-870c-4b36-a041-de91049b9ab4</td>\n",
              "      <td>Lung Opacity</td>\n",
              "    </tr>\n",
              "    <tr>\n",
              "      <th>5</th>\n",
              "      <td>00436515-870c-4b36-a041-de91049b9ab4</td>\n",
              "      <td>Lung Opacity</td>\n",
              "    </tr>\n",
              "    <tr>\n",
              "      <th>6</th>\n",
              "      <td>00569f44-917d-4c86-a842-81832af98c30</td>\n",
              "      <td>No Lung Opacity / Not Normal</td>\n",
              "    </tr>\n",
              "    <tr>\n",
              "      <th>7</th>\n",
              "      <td>006cec2e-6ce2-4549-bffa-eadfcd1e9970</td>\n",
              "      <td>No Lung Opacity / Not Normal</td>\n",
              "    </tr>\n",
              "    <tr>\n",
              "      <th>8</th>\n",
              "      <td>00704310-78a8-4b38-8475-49f4573b2dbb</td>\n",
              "      <td>Lung Opacity</td>\n",
              "    </tr>\n",
              "    <tr>\n",
              "      <th>9</th>\n",
              "      <td>00704310-78a8-4b38-8475-49f4573b2dbb</td>\n",
              "      <td>Lung Opacity</td>\n",
              "    </tr>\n",
              "  </tbody>\n",
              "</table>\n",
              "</div>"
            ],
            "text/plain": [
              "                              patientId                         class\n",
              "0  0004cfab-14fd-4e49-80ba-63a80b6bddd6  No Lung Opacity / Not Normal\n",
              "1  00313ee0-9eaa-42f4-b0ab-c148ed3241cd  No Lung Opacity / Not Normal\n",
              "2  00322d4d-1c29-4943-afc9-b6754be640eb  No Lung Opacity / Not Normal\n",
              "3  003d8fa0-6bf1-40ed-b54c-ac657f8495c5                        Normal\n",
              "4  00436515-870c-4b36-a041-de91049b9ab4                  Lung Opacity\n",
              "5  00436515-870c-4b36-a041-de91049b9ab4                  Lung Opacity\n",
              "6  00569f44-917d-4c86-a842-81832af98c30  No Lung Opacity / Not Normal\n",
              "7  006cec2e-6ce2-4549-bffa-eadfcd1e9970  No Lung Opacity / Not Normal\n",
              "8  00704310-78a8-4b38-8475-49f4573b2dbb                  Lung Opacity\n",
              "9  00704310-78a8-4b38-8475-49f4573b2dbb                  Lung Opacity"
            ]
          },
          "metadata": {
            "tags": []
          },
          "execution_count": 7
        }
      ]
    },
    {
      "cell_type": "markdown",
      "metadata": {
        "id": "LuXix6rGE2uE",
        "colab_type": "text"
      },
      "source": [
        "Number of total target classes and their names"
      ]
    },
    {
      "cell_type": "code",
      "metadata": {
        "id": "TQ-Hj4yHE1f2",
        "colab_type": "code",
        "outputId": "b52eb92b-b078-4cce-f202-3d8bac9d7311",
        "colab": {
          "base_uri": "https://localhost:8080/",
          "height": 54
        }
      },
      "source": [
        "print(\"Number of classes in the dataset :: %i\" %  len(patient_classes[\"class\"].unique()))\n",
        "print(\"Classes' names are :: %s\" % patient_classes[\"class\"].unique())"
      ],
      "execution_count": 8,
      "outputs": [
        {
          "output_type": "stream",
          "text": [
            "Number of classes in the dataset :: 3\n",
            "Classes' names are :: ['No Lung Opacity / Not Normal' 'Normal' 'Lung Opacity']\n"
          ],
          "name": "stdout"
        }
      ]
    },
    {
      "cell_type": "markdown",
      "metadata": {
        "id": "pn9VnK7KFFtC",
        "colab_type": "text"
      },
      "source": [
        "Checking the skewness of the data in each data class"
      ]
    },
    {
      "cell_type": "code",
      "metadata": {
        "id": "YZw36JbSFV2W",
        "colab_type": "code",
        "outputId": "01e2728c-1a0a-4f21-b002-cdbf3232e690",
        "colab": {
          "base_uri": "https://localhost:8080/",
          "height": 477
        }
      },
      "source": [
        "class_count = patient_classes['class'].value_counts()\n",
        "class_count.plot(kind='bar',color= list('brg'))\n",
        "print(class_count)"
      ],
      "execution_count": 9,
      "outputs": [
        {
          "output_type": "stream",
          "text": [
            "No Lung Opacity / Not Normal    11821\n",
            "Lung Opacity                     9555\n",
            "Normal                           8851\n",
            "Name: class, dtype: int64\n"
          ],
          "name": "stdout"
        },
        {
          "output_type": "display_data",
          "data": {
            "image/png": "[encoded data removed]",
            "text/plain": [
              "<Figure size 432x288 with 1 Axes>"
            ]
          },
          "metadata": {
            "tags": [],
            "needs_background": "light"
          }
        }
      ]
    },
    {
      "cell_type": "markdown",
      "metadata": {
        "id": "Idwv3QXgJBrA",
        "colab_type": "text"
      },
      "source": [
        "From above we observe that the data is not skewed. Let's proceed with the further\n",
        "\n",
        "Now let's have a look on our train_labels data"
      ]
    },
    {
      "cell_type": "code",
      "metadata": {
        "id": "GEky5JmeJvz-",
        "colab_type": "code",
        "outputId": "e7f8a7ee-e1a3-445d-f9af-fbd126cf463a",
        "colab": {
          "base_uri": "https://localhost:8080/",
          "height": 146
        }
      },
      "source": [
        "train_labels = pd.read_csv('Data/stage_2_train_labels.csv')\n",
        "print(train_labels.iloc[0])"
      ],
      "execution_count": 10,
      "outputs": [
        {
          "output_type": "stream",
          "text": [
            "patientId    0004cfab-14fd-4e49-80ba-63a80b6bddd6\n",
            "x                                             NaN\n",
            "y                                             NaN\n",
            "width                                         NaN\n",
            "height                                        NaN\n",
            "Target                                          0\n",
            "Name: 0, dtype: object\n"
          ],
          "name": "stdout"
        }
      ]
    },
    {
      "cell_type": "markdown",
      "metadata": {
        "id": "CyNCZcF1ZyEt",
        "colab_type": "text"
      },
      "source": [
        "From the above example we see that for every label we have a patient ID, and bounding boxes coordinates which are nulls for class 0 and have values for class 1"
      ]
    },
    {
      "cell_type": "markdown",
      "metadata": {
        "id": "VFTgXLHBcIhO",
        "colab_type": "text"
      },
      "source": [
        "We can proceed to explore the images and their meta data informaion. Tne images are stored in DICOM format which stores the meta data about each image in the dataset. \n",
        "\n",
        "We can explore the meta data information stored for images."
      ]
    },
    {
      "cell_type": "code",
      "metadata": {
        "id": "PDmtCaDEcdZ9",
        "colab_type": "code",
        "colab": {
          "base_uri": "https://localhost:8080/",
          "height": 660
        },
        "outputId": "099edd7e-7609-45f4-c8c4-cf39a424f973"
      },
      "source": [
        "dcm_file = 'Data/DCM_Train_Images/%s.dcm' % train_labels.patientId.tolist()[0]\n",
        "dcm_data = pydicom.read_file(dcm_file)\n",
        "print(dcm_data) "
      ],
      "execution_count": 12,
      "outputs": [
        {
          "output_type": "stream",
          "text": [
            "(0008, 0005) Specific Character Set              CS: 'ISO_IR 100'\n",
            "(0008, 0016) SOP Class UID                       UI: Secondary Capture Image Storage\n",
            "(0008, 0018) SOP Instance UID                    UI: 1.2.276.0.7230010.3.1.4.8323329.28530.1517874485.775526\n",
            "(0008, 0020) Study Date                          DA: '19010101'\n",
            "(0008, 0030) Study Time                          TM: '000000.00'\n",
            "(0008, 0050) Accession Number                    SH: ''\n",
            "(0008, 0060) Modality                            CS: 'CR'\n",
            "(0008, 0064) Conversion Type                     CS: 'WSD'\n",
            "(0008, 0090) Referring Physician's Name          PN: ''\n",
            "(0008, 103e) Series Description                  LO: 'view: PA'\n",
            "(0010, 0010) Patient's Name                      PN: '0004cfab-14fd-4e49-80ba-63a80b6bddd6'\n",
            "(0010, 0020) Patient ID                          LO: '0004cfab-14fd-4e49-80ba-63a80b6bddd6'\n",
            "(0010, 0030) Patient's Birth Date                DA: ''\n",
            "(0010, 0040) Patient's Sex                       CS: 'F'\n",
            "(0010, 1010) Patient's Age                       AS: '51'\n",
            "(0018, 0015) Body Part Examined                  CS: 'CHEST'\n",
            "(0018, 5101) View Position                       CS: 'PA'\n",
            "(0020, 000d) Study Instance UID                  UI: 1.2.276.0.7230010.3.1.2.8323329.28530.1517874485.775525\n",
            "(0020, 000e) Series Instance UID                 UI: 1.2.276.0.7230010.3.1.3.8323329.28530.1517874485.775524\n",
            "(0020, 0010) Study ID                            SH: ''\n",
            "(0020, 0011) Series Number                       IS: \"1\"\n",
            "(0020, 0013) Instance Number                     IS: \"1\"\n",
            "(0020, 0020) Patient Orientation                 CS: ''\n",
            "(0028, 0002) Samples per Pixel                   US: 1\n",
            "(0028, 0004) Photometric Interpretation          CS: 'MONOCHROME2'\n",
            "(0028, 0010) Rows                                US: 1024\n",
            "(0028, 0011) Columns                             US: 1024\n",
            "(0028, 0030) Pixel Spacing                       DS: [0.14300000000000002, 0.14300000000000002]\n",
            "(0028, 0100) Bits Allocated                      US: 8\n",
            "(0028, 0101) Bits Stored                         US: 8\n",
            "(0028, 0102) High Bit                            US: 7\n",
            "(0028, 0103) Pixel Representation                US: 0\n",
            "(0028, 2110) Lossy Image Compression             CS: '01'\n",
            "(0028, 2114) Lossy Image Compression Method      CS: 'ISO_10918_1'\n",
            "(7fe0, 0010) Pixel Data                          OB: Array of 142006 elements\n"
          ],
          "name": "stdout"
        }
      ]
    },
    {
      "cell_type": "markdown",
      "metadata": {
        "id": "4CNJFneVc_je",
        "colab_type": "text"
      },
      "source": [
        "we can store all distinct IDs in the dataframe for later use"
      ]
    },
    {
      "cell_type": "code",
      "metadata": {
        "id": "gmies7kOdF1M",
        "colab_type": "code",
        "colab": {}
      },
      "source": [
        "patientIds = train_labels.drop_duplicates('patientId', keep = 'first').patientId.tolist()"
      ],
      "execution_count": 0,
      "outputs": []
    },
    {
      "cell_type": "markdown",
      "metadata": {
        "id": "r7m-l4v3dgwP",
        "colab_type": "text"
      },
      "source": [
        "We can extract some of the attributes from the meta data available for each images and store it in dataframes to use later"
      ]
    },
    {
      "cell_type": "code",
      "metadata": {
        "id": "Ca0Kx9m2dvSG",
        "colab_type": "code",
        "colab": {}
      },
      "source": [
        "Sex = []\n",
        "Age = []\n",
        "for patientId in patientIds:\n",
        "    dcm_file = 'Data/DCM_Train_Images/%s.dcm' % patientId\n",
        "    dcm_data = pydicom.read_file(dcm_file)\n",
        "    Sex.append(dcm_data.PatientSex)\n",
        "    Age.append(int(dcm_data.PatientAge))"
      ],
      "execution_count": 0,
      "outputs": []
    },
    {
      "cell_type": "code",
      "metadata": {
        "id": "Z7WcYH5DeAGf",
        "colab_type": "code",
        "colab": {}
      },
      "source": [
        "patientInfo = pd.DataFrame({'patientId': patientIds, 'patientSex': Sex, 'patientAge': Age})\n",
        "patientInfo.dtypes"
      ],
      "execution_count": 0,
      "outputs": []
    }
  ]
}